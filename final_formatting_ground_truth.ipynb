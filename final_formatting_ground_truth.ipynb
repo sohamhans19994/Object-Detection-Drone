{
 "cells": [
  {
   "cell_type": "code",
   "execution_count": 2,
   "metadata": {},
   "outputs": [],
   "source": [
    "import numpy as np\n",
    "import pandas as pd\n",
    "import os"
   ]
  },
  {
   "cell_type": "code",
   "execution_count": 3,
   "metadata": {},
   "outputs": [],
   "source": [
    "def read_gt(folder_path,file_name):\n",
    "    os.chdir(folder_path)\n",
    "    data = open(file_name,'r').read()\n",
    "    return data"
   ]
  },
  {
   "cell_type": "code",
   "execution_count": 4,
   "metadata": {},
   "outputs": [],
   "source": [
    "def isfloat(value):\n",
    "  try:\n",
    "    float(value)\n",
    "    return True\n",
    "  except ValueError:\n",
    "    return False"
   ]
  },
  {
   "cell_type": "code",
   "execution_count": 5,
   "metadata": {},
   "outputs": [],
   "source": [
    "def convert_to_df(data):\n",
    "    data_split1 = data.split(\"\\n\")\n",
    "    num_data_split = []\n",
    "    for row in data_split1:\n",
    "        row_split = row.split(\",\")\n",
    "        num_row_split = []\n",
    "        for ele in row_split:\n",
    "            if isfloat(ele):\n",
    "                num_row_split.append(float(ele))\n",
    "            else:\n",
    "                num_row_split.append(np.NAN)\n",
    "        num_data_split.append(num_row_split)\n",
    "    data_df = pd.DataFrame(num_data_split)\n",
    "    return data_df"
   ]
  },
  {
   "cell_type": "code",
   "execution_count": 6,
   "metadata": {},
   "outputs": [],
   "source": [
    "def format_df(initial_df,reso_x,reso_y):\n",
    "    np_matrix = initial_df.values\n",
    "    x = ((np_matrix[:,0]/reso_x)+(np_matrix[:,2]/reso_x))/2\n",
    "    y = ((np_matrix[:,1]/reso_y)+(np_matrix[:,3]/reso_y))/2\n",
    "    w = -((np_matrix[:,0]/reso_x)-(np_matrix[:,2]/reso_x))\n",
    "    h = -((np_matrix[:,1]/reso_y)-(np_matrix[:,3]/reso_y))\n",
    "    final_np_matrix = np.column_stack((x,y,w,h))\n",
    "    final_df = pd.DataFrame(final_np_matrix,columns = ['mid_x','mid_y','width','height'])\n",
    "    return final_df"
   ]
  },
  {
   "cell_type": "code",
   "execution_count": 7,
   "metadata": {},
   "outputs": [],
   "source": [
    "def convert_txt_to_df(folder_path,file_name,reso_x,reso_y):\n",
    "    data = read_gt(folder_path, file_name)\n",
    "    data_df = convert_to_df(data)\n",
    "    final_df = format_df(data_df,reso_x,reso_y)\n",
    "    return final_df"
   ]
  },
  {
   "cell_type": "code",
   "execution_count": 8,
   "metadata": {},
   "outputs": [],
   "source": [
    "def convert_to_rnn_format(object_class,gt_df):\n",
    "    final_df = pd.DataFrame()\n",
    "    labels = [\"person\", \"bicycle\", \"car\", \"motorcycle\", \"airplane\", \"bus\", \"train\", \"truck\", \"boat\", \"traffic light\", \"fire hydrant\", \"street sign\", \"stop sign\", \"parking meter\", \"bench\", \"bird\", \"cat\", \"dog\", \"horse\", \"sheep\", \"cow\", \"elephant\", \"bear\", \"zebra\", \"giraffe\", \"hat\", \"backpack\", \"umbrella\", \"shoe\", \"eye\", \"glasses\", \"handbag\", \"tie\", \"suitcase\", \"frisbee\", \"skis\", \"snowboard\", \"sports ball\", \"kite\", \"baseball bat\", \"baseball glove\", \"skateboard\", \"surfboard\", \"tennis racket\", \"bottle\", \"plate\", \"wine glass\", \"cup\", \"fork\", \"knife\", \"spoon\", \"bowl\", \"banana\", \"apple\", \"sandwich\", \"orange\", \"broccoli\", \"carrot\", \"hot dog\", \"pizza\", \"donut\", \"cake\", \"chair\", \"couch\", \"potted plant\", \"bed\", \"mirror\", \"dining table\", \"window\", \"desk\", \"toilet\", \"door\", \"tv\", \"laptop\", \"mouse\", \"remote\", \"keyboard\", \"cell phone\", \"microwave\", \"oven\", \"toaster\", \"sink\", \"refrigerator\", \"blender\", \"book\", \"clock\", \"vase\", \"scissors\", \"teddy bear\", \"hair drier\", \"toothbrush\", \"hair brush\"] \n",
    "    for index,row in gt_df.iterrows():\n",
    "        random_3d = np.random.randn(19,19,96)\n",
    "        random_3d = random_3d - random_3d.astype(int)\n",
    "        random_3d = np.absolute(random_3d)\n",
    "        random_3d[:,:,0] = np.zeros((19,19))\n",
    "        xcenter = row['mid_x']\n",
    "        ycenter = row['mid_y']\n",
    "        if np.isnan(xcenter) == False and np.isnan(ycenter) == False:\n",
    "            xgrid_num = int(xcenter/(1/19))\n",
    "            xcenter_wrt_grid = xcenter/(1/19) - int(xcenter/(1/19))\n",
    "            ygrid_num = int(ycenter/(1/19))\n",
    "            if xgrid_num<1 and ygrid_num<1:    \n",
    "                ycenter_wrt_grid = ycenter/(1/19) - int(ycenter/(1/19))\n",
    "                random_3d[xgrid_num,ygrid_num,0] = 1\n",
    "                random_3d[xgrid_num,ygrid_num,1] = xcenter_wrt_grid\n",
    "                random_3d[xgrid_num,ygrid_num,2] = xcenter_wrt_grid\n",
    "                random_3d[xgrid_num,ygrid_num,3] = row['height']\n",
    "                random_3d[xgrid_num,ygrid_num,4] = row['width']\n",
    "                random_3d[xgrid_num,ygrid_num,5:96] = 0\n",
    "                thing_num = 0\n",
    "                for thing in labels:\n",
    "                    if object_class == thing:\n",
    "                        random_3d[xgrid_num][ygrid_num][thing_num+5] = 1\n",
    "                        break\n",
    "                    thing_num = thing_num+1\n",
    "        final_flat = random_3d.flatten()\n",
    "        ser = pd.Series(final_flat)\n",
    "        final_df = final_df.append(ser,ignore_index = True)\n",
    "    return final_df"
   ]
  },
  {
   "cell_type": "markdown",
   "metadata": {},
   "source": [
    "Rest of the code is just to make csv files for all the text ground_truths we have"
   ]
  },
  {
   "cell_type": "code",
   "execution_count": 8,
   "metadata": {},
   "outputs": [],
   "source": [
    "Babenko_girl = convert_txt_to_df(\"/home/soham/AeroMIT/dataset_rnn_yolo/TrackingDataset/Babenko/girl\",\"gt.txt\",320,240)\n",
    "Babenko_girl = convert_to_rnn_format('person',Babenko_girl)\n",
    "Babenko_girl.to_csv(\"/home/soham/AeroMIT/dataset_rnn_yolo/TrackingDataset/Babenko/girl/rnn_gt.csv\",sep='\\t', encoding='utf-8')"
   ]
  },
  {
   "cell_type": "code",
   "execution_count": 9,
   "metadata": {},
   "outputs": [],
   "source": [
    "Babenko_occludedface = convert_txt_to_df(\"/home/soham/AeroMIT/dataset_rnn_yolo/TrackingDataset/Babenko/OccludedFace2\",\"gt.txt\",320,240)\n",
    "Babenko_occludedface =convert_to_rnn_format('person',Babenko_occludedface)\n",
    "Babenko_occludedface.to_csv(\"/home/soham/AeroMIT/dataset_rnn_yolo/TrackingDataset/Babenko/OccludedFace2/rnn_gt.csv\",sep='\\t', encoding='utf-8')"
   ]
  },
  {
   "cell_type": "code",
   "execution_count": 10,
   "metadata": {},
   "outputs": [],
   "source": [
    "Babenko_surfer = convert_txt_to_df(\"/home/soham/AeroMIT/dataset_rnn_yolo/TrackingDataset/Babenko/surfer\",\"gt.txt\",480,360)\n",
    "Babenko_surfer = convert_to_rnn_format('person',Babenko_surfer)\n",
    "Babenko_surfer.to_csv(\"/home/soham/AeroMIT/dataset_rnn_yolo/TrackingDataset/Babenko/surfer/rnn_gt.csv\",sep='\\t', encoding='utf-8')"
   ]
  },
  {
   "cell_type": "code",
   "execution_count": 11,
   "metadata": {},
   "outputs": [],
   "source": [
    "bobot_vida_ball = convert_txt_to_df(\"/home/soham/AeroMIT/dataset_rnn_yolo/TrackingDataset/BoBot/Vid_A_ball\",\"gt.txt\",320,240)\n",
    "bobot_vida_ball = convert_to_rnn_format('sports ball',bobot_vida_ball)\n",
    "bobot_vida_ball.to_csv(\"/home/soham/AeroMIT/dataset_rnn_yolo/TrackingDataset/BoBot/Vid_A_ball/rnn_gt.csv\",sep='\\t', encoding='utf-8')"
   ]
  },
  {
   "cell_type": "code",
   "execution_count": 12,
   "metadata": {},
   "outputs": [],
   "source": [
    "bobot_vidb = convert_txt_to_df(\"/home/soham/AeroMIT/dataset_rnn_yolo/TrackingDataset/BoBot/Vid_B_cup\",\"gt.txt\",320,240)\n",
    "bobot_vidb = convert_to_rnn_format(\"cup\",bobot_vidb)\n",
    "bobot_vidb.to_csv(\"/home/soham/AeroMIT/dataset_rnn_yolo/TrackingDataset/BoBot/Vid_B_cup/rnn_gt.csv\",sep='\\t', encoding='utf-8')"
   ]
  },
  {
   "cell_type": "code",
   "execution_count": 13,
   "metadata": {},
   "outputs": [],
   "source": [
    "bobot_vidc = convert_txt_to_df(\"/home/soham/AeroMIT/dataset_rnn_yolo/TrackingDataset/BoBot/Vid_C_juice\",\"gt.txt\",320,240)\n",
    "bobot_vidc = convert_to_rnn_format(\"dining table\",bobot_vidc)\n",
    "bobot_vidc.to_csv(\"/home/soham/AeroMIT/dataset_rnn_yolo/TrackingDataset/BoBot/Vid_C_juice/rnn_gt.csv\",sep='\\t', encoding='utf-8')"
   ]
  },
  {
   "cell_type": "code",
   "execution_count": 14,
   "metadata": {},
   "outputs": [],
   "source": [
    "bobot_vidd = convert_txt_to_df(\"/home/soham/AeroMIT/dataset_rnn_yolo/TrackingDataset/BoBot/Vid_D_person\",\"gt.txt\",320,240)\n",
    "bobot_vidd = convert_to_rnn_format(\"person\",bobot_vidd)\n",
    "bobot_vidd.to_csv(\"/home/soham/AeroMIT/dataset_rnn_yolo/TrackingDataset/BoBot/Vid_D_person/formatted_gt.csv\",sep='\\t', encoding='utf-8')"
   ]
  },
  {
   "cell_type": "code",
   "execution_count": 15,
   "metadata": {},
   "outputs": [],
   "source": [
    "bobot_vide = convert_txt_to_df(\"/home/soham/AeroMIT/dataset_rnn_yolo/TrackingDataset/BoBot/Vid_E_person_part_occluded\",\"gt.txt\",320,240)\n",
    "bobot_vide = convert_to_rnn_format(\"person\",bobot_vide)\n",
    "bobot_vide.to_csv(\"/home/soham/AeroMIT/dataset_rnn_yolo/TrackingDataset/BoBot/Vid_E_person_part_occluded/rnn_gt.csv\",sep='\\t', encoding='utf-8')"
   ]
  },
  {
   "cell_type": "code",
   "execution_count": 16,
   "metadata": {},
   "outputs": [],
   "source": [
    "bobot_vide = convert_txt_to_df(\"/home/soham/AeroMIT/dataset_rnn_yolo/TrackingDataset/BoBot/Vid_E_person_part_occluded\",\"gt.txt\",320,240)\n",
    "bobot_vide = convert_to_rnn_format(\"person\",bobot_vide)\n",
    "bobot_vide.to_csv(\"/home/soham/AeroMIT/dataset_rnn_yolo/TrackingDataset/BoBot/Vid_E_person_part_occluded/rnn_gt.csv\",sep='\\t', encoding='utf-8')"
   ]
  },
  {
   "cell_type": "code",
   "execution_count": 17,
   "metadata": {},
   "outputs": [],
   "source": [
    "bobot_vidf = convert_txt_to_df(\"/home/soham/AeroMIT/dataset_rnn_yolo/TrackingDataset/BoBot/Vid_F_person_fully_occluded\",\"gt.txt\",320,240)\n",
    "bobot_vidf = convert_to_rnn_format(\"person\",bobot_vidf)\n",
    "bobot_vidf.to_csv(\"/home/soham/AeroMIT/dataset_rnn_yolo/TrackingDataset/BoBot/Vid_F_person_fully_occluded/rnn_gt.csv\",sep='\\t', encoding='utf-8')"
   ]
  },
  {
   "cell_type": "code",
   "execution_count": 18,
   "metadata": {},
   "outputs": [],
   "source": [
    "bobot_vidg = convert_txt_to_df(\"/home/soham/AeroMIT/dataset_rnn_yolo/TrackingDataset/BoBot/Vid_G_person_fully_occluded\",\"gt.txt\",320,240)\n",
    "bobot_vidg = convert_to_rnn_format(\"person\",bobot_vidg)\n",
    "bobot_vidg.to_csv(\"/home/soham/AeroMIT/dataset_rnn_yolo/TrackingDataset/BoBot/Vid_G_person_fully_occluded/rnn_gt.csv\",sep='\\t', encoding='utf-8')\n"
   ]
  },
  {
   "cell_type": "code",
   "execution_count": 19,
   "metadata": {},
   "outputs": [],
   "source": [
    "bobot_vidh = convert_txt_to_df(\"/home/soham/AeroMIT/dataset_rnn_yolo/TrackingDataset/BoBot/Vid_H_panda\",\"gt.txt\",320,240)\n",
    "bobot_vidh = convert_to_rnn_format(\"teddy bear\",bobot_vidh)\n",
    "bobot_vidh.to_csv(\"/home/soham/AeroMIT/dataset_rnn_yolo/TrackingDataset/BoBot/Vid_H_panda/rnn_gt.csv\",sep='\\t', encoding='utf-8')\n"
   ]
  },
  {
   "cell_type": "code",
   "execution_count": 20,
   "metadata": {},
   "outputs": [],
   "source": [
    "bobot_vidi = convert_txt_to_df(\"/home/soham/AeroMIT/dataset_rnn_yolo/TrackingDataset/BoBot/Vid_I_person_crossing\",\"gt.txt\",320,240)\n",
    "bobot_vidi = convert_to_rnn_format(\"person\",bobot_vidi)\n",
    "bobot_vidi.to_csv(\"/home/soham/AeroMIT/dataset_rnn_yolo/TrackingDataset/BoBot/Vid_I_person_crossing/rnn_gt.csv\",sep='\\t', encoding='utf-8')"
   ]
  },
  {
   "cell_type": "code",
   "execution_count": 21,
   "metadata": {},
   "outputs": [],
   "source": [
    "bobot_vidj = convert_txt_to_df(\"/home/soham/AeroMIT/dataset_rnn_yolo/TrackingDataset/BoBot/Vid_J_person_floor\",\"gt.txt\",320,240)\n",
    "bobot_vidj = convert_to_rnn_format(\"person\",bobot_vidj)\n",
    "bobot_vidj.to_csv(\"/home/soham/AeroMIT/dataset_rnn_yolo/TrackingDataset/BoBot/Vid_J_person_floor/rnn_gt.csv\",sep='\\t', encoding='utf-8')"
   ]
  },
  {
   "cell_type": "code",
   "execution_count": 22,
   "metadata": {},
   "outputs": [],
   "source": [
    "bobot_vidk = convert_txt_to_df(\"/home/soham/AeroMIT/dataset_rnn_yolo/TrackingDataset/BoBot/Vid_K_cup\",\"gt.txt\",320,240)\n",
    "bobot_vidk = convert_to_rnn_format(\"cup\",bobot_vidk)\n",
    "bobot_vidk.to_csv(\"/home/soham/AeroMIT/dataset_rnn_yolo/TrackingDataset/BoBot/Vid_K_cup/rnn_gt.csv\",sep='\\t', encoding='utf-8')"
   ]
  },
  {
   "cell_type": "code",
   "execution_count": 23,
   "metadata": {},
   "outputs": [],
   "source": [
    "bobot_vidl = convert_txt_to_df(\"/home/soham/AeroMIT/dataset_rnn_yolo/TrackingDataset/BoBot/Vid_L_coffee\",\"gt.txt\",320,240)\n",
    "bobot_vidl = convert_to_rnn_format(\"cup\",bobot_vidl)\n",
    "bobot_vidl.to_csv(\"/home/soham/AeroMIT/dataset_rnn_yolo/TrackingDataset/BoBot/Vid_L_coffee/rnn_gt.csv\",sep='\\t', encoding='utf-8')"
   ]
  },
  {
   "cell_type": "code",
   "execution_count": 24,
   "metadata": {},
   "outputs": [],
   "source": [
    "cehovin1 = convert_txt_to_df(\"/home/soham/AeroMIT/dataset_rnn_yolo/TrackingDataset/Cehovin/dinosaur\",\"gt.txt\",320,240)\n",
    "cehovin1 = convert_to_rnn_format(\"teddy bear\",cehovin1)\n",
    "cehovin1.to_csv(\"/home/soham/AeroMIT/dataset_rnn_yolo/TrackingDataset/Cehovin/dinosaur/rnn_gt.csv\",sep='\\t', encoding='utf-8')"
   ]
  },
  {
   "cell_type": "code",
   "execution_count": 25,
   "metadata": {},
   "outputs": [],
   "source": [
    "cehovin2 = convert_txt_to_df(\"/home/soham/AeroMIT/dataset_rnn_yolo/TrackingDataset/Cehovin/gymnastics\",\"gt.txt\",320,180)\n",
    "cehovin2 = convert_to_rnn_format(\"person\",cehovin2)\n",
    "cehovin2.to_csv(\"/home/soham/AeroMIT/dataset_rnn_yolo/TrackingDataset/Cehovin/gymnastics/rnn_gt.csv\",sep='\\t', encoding='utf-8')"
   ]
  },
  {
   "cell_type": "code",
   "execution_count": 26,
   "metadata": {},
   "outputs": [],
   "source": [
    "cehovin3 = convert_txt_to_df(\"/home/soham/AeroMIT/dataset_rnn_yolo/TrackingDataset/Cehovin/hand\",\"gt.txt\",320,240)\n",
    "cehovin3 = convert_to_rnn_format(\"person\",cehovin3)\n",
    "cehovin3.to_csv(\"/home/soham/AeroMIT/dataset_rnn_yolo/TrackingDataset/Cehovin/hand/rnn_gt.csv\",sep='\\t', encoding='utf-8')"
   ]
  },
  {
   "cell_type": "code",
   "execution_count": 27,
   "metadata": {},
   "outputs": [],
   "source": [
    "cehovin4 = convert_txt_to_df(\"/home/soham/AeroMIT/dataset_rnn_yolo/TrackingDataset/Cehovin/hand2\",\"gt.txt\",320,240)\n",
    "cehovin4 = convert_to_rnn_format(\"person\",cehovin4)\n",
    "cehovin4.to_csv(\"/home/soham/AeroMIT/dataset_rnn_yolo/TrackingDataset/Cehovin/hand2/rnn_gt.csv\",sep='\\t', encoding='utf-8')"
   ]
  },
  {
   "cell_type": "code",
   "execution_count": 28,
   "metadata": {},
   "outputs": [],
   "source": [
    "cehovin5 = convert_txt_to_df(\"/home/soham/AeroMIT/dataset_rnn_yolo/TrackingDataset/Cehovin/torus\",\"gt.txt\",320,240)\n",
    "cehovin5 = convert_to_rnn_format(\"donut\",cehovin5)\n",
    "cehovin5.to_csv(\"/home/soham/AeroMIT/dataset_rnn_yolo/TrackingDataset/Cehovin/torus/rnn_gt.csv\",sep='\\t', encoding='utf-8')"
   ]
  },
  {
   "cell_type": "code",
   "execution_count": 29,
   "metadata": {},
   "outputs": [],
   "source": [
    "Ellis_ijcv2011_1 = convert_txt_to_df(\"/home/soham/AeroMIT/dataset_rnn_yolo/TrackingDataset/Ellis_ijcv2011/head_motion\",\"gt.txt\",320,240)\n",
    "Ellis_ijcv2011_1 = convert_to_rnn_format(\"person\",Ellis_ijcv2011_1)\n",
    "Ellis_ijcv2011_1.to_csv(\"/home/soham/AeroMIT/dataset_rnn_yolo/TrackingDataset/Ellis_ijcv2011/head_motion/rnn_gt.csv\",sep='\\t', encoding='utf-8')"
   ]
  },
  {
   "cell_type": "code",
   "execution_count": 30,
   "metadata": {},
   "outputs": [],
   "source": [
    "Ellis_ijcv2011_2 = convert_txt_to_df(\"/home/soham/AeroMIT/dataset_rnn_yolo/TrackingDataset/Ellis_ijcv2011/shaking_camera\",\"gt.txt\",320,240)\n",
    "Ellis_ijcv2011_2 = convert_to_rnn_format(\"desk\",Ellis_ijcv2011_2)\n",
    "Ellis_ijcv2011_2.to_csv(\"/home/soham/AeroMIT/dataset_rnn_yolo/TrackingDataset/Ellis_ijcv2011/shaking_camera/rnn_gt.csv\",sep='\\t', encoding='utf-8')"
   ]
  },
  {
   "cell_type": "code",
   "execution_count": 31,
   "metadata": {},
   "outputs": [],
   "source": [
    "Ellis_ijcv2011_3 = convert_txt_to_df(\"/home/soham/AeroMIT/dataset_rnn_yolo/TrackingDataset/Ellis_ijcv2011/track_running\",\"gt.txt\",768,576)\n",
    "Ellis_ijcv2011_3 = convert_to_rnn_format(\"person\",Ellis_ijcv2011_3)\n",
    "Ellis_ijcv2011_3.to_csv(\"/home/soham/AeroMIT/dataset_rnn_yolo/TrackingDataset/Ellis_ijcv2011/track_running/rnn_gt.csv\",sep='\\t', encoding='utf-8')"
   ]
  },
  {
   "cell_type": "code",
   "execution_count": 32,
   "metadata": {},
   "outputs": [],
   "source": [
    "Godec1= convert_txt_to_df(\"/home/soham/AeroMIT/dataset_rnn_yolo/TrackingDataset/Godec/cliff-dive1\",\"gt.txt\",400,226)\n",
    "Godec1 = convert_to_rnn_format(\"person\",Godec1)\n",
    "Godec1.to_csv(\"/home/soham/AeroMIT/dataset_rnn_yolo/TrackingDataset/Godec/cliff-dive1/rnn_gt.csv\",sep='\\t', encoding='utf-8')"
   ]
  },
  {
   "cell_type": "code",
   "execution_count": 33,
   "metadata": {},
   "outputs": [],
   "source": [
    "Godec2= convert_txt_to_df(\"/home/soham/AeroMIT/dataset_rnn_yolo/TrackingDataset/Godec/cliff-dive2\",\"gt.txt\",400,226)\n",
    "Godec2 = convert_to_rnn_format(\"person\",Godec2)\n",
    "Godec2.to_csv(\"/home/soham/AeroMIT/dataset_rnn_yolo/TrackingDataset/Godec/cliff-dive2/rnn_gt.csv\",sep='\\t', encoding='utf-8')"
   ]
  },
  {
   "cell_type": "code",
   "execution_count": 34,
   "metadata": {},
   "outputs": [],
   "source": [
    "Godec3= convert_txt_to_df(\"/home/soham/AeroMIT/dataset_rnn_yolo/TrackingDataset/Godec/motocross1\",\"gt.txt\",640,360)\n",
    "Godec3 = convert_to_rnn_format(\"motorcycle\",Godec3)\n",
    "Godec3.to_csv(\"/home/soham/AeroMIT/dataset_rnn_yolo/TrackingDataset/Godec/motocross1/rnn_gt.csv\",sep='\\t', encoding='utf-8')"
   ]
  },
  {
   "cell_type": "code",
   "execution_count": 35,
   "metadata": {},
   "outputs": [],
   "source": [
    "Godec4= convert_txt_to_df(\"/home/soham/AeroMIT/dataset_rnn_yolo/TrackingDataset/Godec/motocross2\",\"gt.txt\",640,360)\n",
    "Godec4 = convert_to_rnn_format(\"motorcycle\",Godec4)\n",
    "Godec4.to_csv(\"/home/soham/AeroMIT/dataset_rnn_yolo/TrackingDataset/Godec/motocross2/rnn_gt.csv\",sep='\\t', encoding='utf-8')"
   ]
  },
  {
   "cell_type": "code",
   "execution_count": 36,
   "metadata": {},
   "outputs": [],
   "source": [
    "Godec5= convert_txt_to_df(\"/home/soham/AeroMIT/dataset_rnn_yolo/TrackingDataset/Godec/mountain-bike\",\"gt.txt\",640,360)\n",
    "Godec5 = convert_to_rnn_format(\"bicycle\",Godec5)\n",
    "Godec5.to_csv(\"/home/soham/AeroMIT/dataset_rnn_yolo/TrackingDataset/Godec/mountain-bike/rnn_gt.csv\",sep='\\t', encoding='utf-8')"
   ]
  },
  {
   "cell_type": "code",
   "execution_count": 37,
   "metadata": {},
   "outputs": [],
   "source": [
    "Godec6= convert_txt_to_df(\"/home/soham/AeroMIT/dataset_rnn_yolo/TrackingDataset/Godec/skiing\",\"gt.txt\",640,360)\n",
    "Godec6 = convert_to_rnn_format(\"person\",Godec6)\n",
    "Godec6.to_csv(\"/home/soham/AeroMIT/dataset_rnn_yolo/TrackingDataset/Godec/skiing/rnn_gt.csv\",sep='\\t', encoding='utf-8')"
   ]
  },
  {
   "cell_type": "code",
   "execution_count": 38,
   "metadata": {},
   "outputs": [],
   "source": [
    "Godec7= convert_txt_to_df(\"/home/soham/AeroMIT/dataset_rnn_yolo/TrackingDataset/Godec/volleyball\",\"gt.txt\",720,576)\n",
    "Godec7 = convert_to_rnn_format(\"sports ball\",Godec7)\n",
    "Godec7.to_csv(\"/home/soham/AeroMIT/dataset_rnn_yolo/TrackingDataset/Godec/volleyball/rnn_gt.csv\",sep='\\t', encoding='utf-8')"
   ]
  },
  {
   "cell_type": "code",
   "execution_count": 39,
   "metadata": {},
   "outputs": [],
   "source": [
    "Kalal1= convert_txt_to_df(\"/home/soham/AeroMIT/dataset_rnn_yolo/TrackingDataset/Kalal/car\",\"gt.txt\",320,240)\n",
    "Kalal1 = convert_to_rnn_format(\"car\",Kalal1)\n",
    "Kalal1.to_csv(\"/home/soham/AeroMIT/dataset_rnn_yolo/TrackingDataset/Kalal/car/rnn_gt.csv\",sep='\\t', encoding='utf-8')"
   ]
  },
  {
   "cell_type": "code",
   "execution_count": null,
   "metadata": {
    "scrolled": true
   },
   "outputs": [],
   "source": [
    "Kalal2= convert_txt_to_df(\"/home/soham/AeroMIT/dataset_rnn_yolo/TrackingDataset/Kalal/CarChase\",\"gt.txt\",290,217)\n",
    "Kalal2 = convert_to_rnn_format(\"car\",Kalal2)\n",
    "Kalal2.to_csv(\"/home/soham/AeroMIT/dataset_rnn_yolo/TrackingDataset/Kalal/CarChase/rnn_gt.csv\",sep='\\t', encoding='utf-8')"
   ]
  },
  {
   "cell_type": "code",
   "execution_count": 43,
   "metadata": {},
   "outputs": [],
   "source": [
    "Kalal3= convert_txt_to_df(\"/home/soham/AeroMIT/dataset_rnn_yolo/TrackingDataset/Kalal/david\",\"gt.txt\",320,240)\n",
    "Kalal3 = convert_to_rnn_format(\"person\",Kalal3)\n",
    "Kalal3.to_csv(\"/home/soham/AeroMIT/dataset_rnn_yolo/TrackingDataset/Kalal/david/rnn_gt.csv\",sep='\\t', encoding='utf-8')"
   ]
  },
  {
   "cell_type": "code",
   "execution_count": 44,
   "metadata": {},
   "outputs": [],
   "source": [
    "Kalal4= convert_txt_to_df(\"/home/soham/AeroMIT/dataset_rnn_yolo/TrackingDataset/Kalal/jumping\",\"gt.txt\",352,288)\n",
    "Kalal4 = convert_to_rnn_format(\"person\",Kalal4)\n",
    "Kalal4.to_csv(\"/home/soham/AeroMIT/dataset_rnn_yolo/TrackingDataset/Kalal/jumping/rnn_gt.csv\",sep='\\t', encoding='utf-8')"
   ]
  },
  {
   "cell_type": "code",
   "execution_count": 45,
   "metadata": {},
   "outputs": [],
   "source": [
    "Kalal5= convert_txt_to_df(\"/home/soham/AeroMIT/dataset_rnn_yolo/TrackingDataset/Kalal/Motocross\",\"gt.txt\",470,310)\n",
    "Kalal5 = convert_to_rnn_format(\"motorcycle\",Kalal5)\n",
    "Kalal5.to_csv(\"/home/soham/AeroMIT/dataset_rnn_yolo/TrackingDataset/Kalal/Motocross/rnn_gt.csv\",sep='\\t', encoding='utf-8')"
   ]
  },
  {
   "cell_type": "code",
   "execution_count": 46,
   "metadata": {},
   "outputs": [],
   "source": [
    "Kalal6= convert_txt_to_df(\"/home/soham/AeroMIT/dataset_rnn_yolo/TrackingDataset/Kalal/Panda\",\"gt.txt\",312,233)\n",
    "Kalal6 = convert_to_rnn_format(\"bear\",Kalal6)\n",
    "Kalal6.to_csv(\"/home/soham/AeroMIT/dataset_rnn_yolo/TrackingDataset/Kalal/Panda/rnn_gt.csv\",sep='\\t', encoding='utf-8')"
   ]
  },
  {
   "cell_type": "code",
   "execution_count": 47,
   "metadata": {},
   "outputs": [],
   "source": [
    "Kalal7= convert_txt_to_df(\"/home/soham/AeroMIT/dataset_rnn_yolo/TrackingDataset/Kalal/pedestrian3\",\"gt.txt\",320,240)\n",
    "Kalal7 = convert_to_rnn_format(\"person\",Kalal7)\n",
    "Kalal7.to_csv(\"/home/soham/AeroMIT/dataset_rnn_yolo/TrackingDataset/Kalal/pedestrian3/rnn_gt.csv\",sep='\\t', encoding='utf-8')"
   ]
  },
  {
   "cell_type": "code",
   "execution_count": 50,
   "metadata": {},
   "outputs": [],
   "source": [
    "Kalal8= convert_txt_to_df(\"/home/soham/AeroMIT/dataset_rnn_yolo/TrackingDataset/Kalal/pedestrian4\",\"gt.txt\",320,240)\n",
    "Kalal8 = convert_to_rnn_format(\"person\",Kalal8)\n",
    "Kalal8.to_csv(\"/home/soham/AeroMIT/dataset_rnn_yolo/TrackingDataset/Kalal/pedestrian4/rnn_gt.csv\",sep='\\t', encoding='utf-8')"
   ]
  },
  {
   "cell_type": "code",
   "execution_count": 51,
   "metadata": {},
   "outputs": [],
   "source": [
    "Kalal9= convert_txt_to_df(\"/home/soham/AeroMIT/dataset_rnn_yolo/TrackingDataset/Kalal/pedestrian5\",\"gt.txt\",320,240)\n",
    "Kalal9 = convert_to_rnn_format(\"person\",Kalal9)\n",
    "Kalal9.to_csv(\"/home/soham/AeroMIT/dataset_rnn_yolo/TrackingDataset/Kalal/pedestrian5/rnn_gt.csv\",sep='\\t', encoding='utf-8')"
   ]
  },
  {
   "cell_type": "code",
   "execution_count": 52,
   "metadata": {},
   "outputs": [
    {
     "ename": "KeyboardInterrupt",
     "evalue": "",
     "output_type": "error",
     "traceback": [
      "\u001b[0;31m---------------------------------------------------------------------------\u001b[0m",
      "\u001b[0;31mKeyboardInterrupt\u001b[0m                         Traceback (most recent call last)",
      "\u001b[0;32m<ipython-input-52-8b61401ed646>\u001b[0m in \u001b[0;36m<module>\u001b[0;34m\u001b[0m\n\u001b[1;32m      1\u001b[0m \u001b[0mKalal10\u001b[0m\u001b[0;34m=\u001b[0m \u001b[0mconvert_txt_to_df\u001b[0m\u001b[0;34m(\u001b[0m\u001b[0;34m\"/home/soham/AeroMIT/dataset_rnn_yolo/TrackingDataset/Kalal/Volkswagen\"\u001b[0m\u001b[0;34m,\u001b[0m\u001b[0;34m\"gt.txt\"\u001b[0m\u001b[0;34m,\u001b[0m\u001b[0;36m640\u001b[0m\u001b[0;34m,\u001b[0m\u001b[0;36m480\u001b[0m\u001b[0;34m)\u001b[0m\u001b[0;34m\u001b[0m\u001b[0;34m\u001b[0m\u001b[0m\n\u001b[0;32m----> 2\u001b[0;31m \u001b[0mKalal10\u001b[0m \u001b[0;34m=\u001b[0m \u001b[0mconvert_to_rnn_format\u001b[0m\u001b[0;34m(\u001b[0m\u001b[0;34m\"truck\"\u001b[0m\u001b[0;34m,\u001b[0m\u001b[0mKalal10\u001b[0m\u001b[0;34m)\u001b[0m\u001b[0;34m\u001b[0m\u001b[0;34m\u001b[0m\u001b[0m\n\u001b[0m\u001b[1;32m      3\u001b[0m \u001b[0mKalal10\u001b[0m\u001b[0;34m.\u001b[0m\u001b[0mto_csv\u001b[0m\u001b[0;34m(\u001b[0m\u001b[0;34m\"/home/soham/AeroMIT/dataset_rnn_yolo/TrackingDataset/Kalal/Volkswagen/rnn_gt.csv\"\u001b[0m\u001b[0;34m,\u001b[0m\u001b[0msep\u001b[0m\u001b[0;34m=\u001b[0m\u001b[0;34m'\\t'\u001b[0m\u001b[0;34m,\u001b[0m \u001b[0mencoding\u001b[0m\u001b[0;34m=\u001b[0m\u001b[0;34m'utf-8'\u001b[0m\u001b[0;34m)\u001b[0m\u001b[0;34m\u001b[0m\u001b[0;34m\u001b[0m\u001b[0m\n",
      "\u001b[0;32m<ipython-input-49-0da2dd74b6f7>\u001b[0m in \u001b[0;36mconvert_to_rnn_format\u001b[0;34m(object_class, gt_df)\u001b[0m\n\u001b[1;32m     29\u001b[0m         \u001b[0mfinal_flat\u001b[0m \u001b[0;34m=\u001b[0m \u001b[0mrandom_3d\u001b[0m\u001b[0;34m.\u001b[0m\u001b[0mflatten\u001b[0m\u001b[0;34m(\u001b[0m\u001b[0;34m)\u001b[0m\u001b[0;34m\u001b[0m\u001b[0;34m\u001b[0m\u001b[0m\n\u001b[1;32m     30\u001b[0m         \u001b[0mser\u001b[0m \u001b[0;34m=\u001b[0m \u001b[0mpd\u001b[0m\u001b[0;34m.\u001b[0m\u001b[0mSeries\u001b[0m\u001b[0;34m(\u001b[0m\u001b[0mfinal_flat\u001b[0m\u001b[0;34m)\u001b[0m\u001b[0;34m\u001b[0m\u001b[0;34m\u001b[0m\u001b[0m\n\u001b[0;32m---> 31\u001b[0;31m         \u001b[0mfinal_df\u001b[0m \u001b[0;34m=\u001b[0m \u001b[0mfinal_df\u001b[0m\u001b[0;34m.\u001b[0m\u001b[0mappend\u001b[0m\u001b[0;34m(\u001b[0m\u001b[0mser\u001b[0m\u001b[0;34m,\u001b[0m\u001b[0mignore_index\u001b[0m \u001b[0;34m=\u001b[0m \u001b[0;32mTrue\u001b[0m\u001b[0;34m)\u001b[0m\u001b[0;34m\u001b[0m\u001b[0;34m\u001b[0m\u001b[0m\n\u001b[0m\u001b[1;32m     32\u001b[0m     \u001b[0;32mreturn\u001b[0m \u001b[0mfinal_df\u001b[0m\u001b[0;34m\u001b[0m\u001b[0;34m\u001b[0m\u001b[0m\n",
      "\u001b[0;32m~/.local/lib/python3.6/site-packages/pandas/core/frame.py\u001b[0m in \u001b[0;36mappend\u001b[0;34m(self, other, ignore_index, verify_integrity, sort)\u001b[0m\n\u001b[1;32m   6209\u001b[0m         return concat(to_concat, ignore_index=ignore_index,\n\u001b[1;32m   6210\u001b[0m                       \u001b[0mverify_integrity\u001b[0m\u001b[0;34m=\u001b[0m\u001b[0mverify_integrity\u001b[0m\u001b[0;34m,\u001b[0m\u001b[0;34m\u001b[0m\u001b[0;34m\u001b[0m\u001b[0m\n\u001b[0;32m-> 6211\u001b[0;31m                       sort=sort)\n\u001b[0m\u001b[1;32m   6212\u001b[0m \u001b[0;34m\u001b[0m\u001b[0m\n\u001b[1;32m   6213\u001b[0m     def join(self, other, on=None, how='left', lsuffix='', rsuffix='',\n",
      "\u001b[0;32m~/.local/lib/python3.6/site-packages/pandas/core/reshape/concat.py\u001b[0m in \u001b[0;36mconcat\u001b[0;34m(objs, axis, join, join_axes, ignore_index, keys, levels, names, verify_integrity, sort, copy)\u001b[0m\n\u001b[1;32m    224\u001b[0m                        \u001b[0mverify_integrity\u001b[0m\u001b[0;34m=\u001b[0m\u001b[0mverify_integrity\u001b[0m\u001b[0;34m,\u001b[0m\u001b[0;34m\u001b[0m\u001b[0;34m\u001b[0m\u001b[0m\n\u001b[1;32m    225\u001b[0m                        copy=copy, sort=sort)\n\u001b[0;32m--> 226\u001b[0;31m     \u001b[0;32mreturn\u001b[0m \u001b[0mop\u001b[0m\u001b[0;34m.\u001b[0m\u001b[0mget_result\u001b[0m\u001b[0;34m(\u001b[0m\u001b[0;34m)\u001b[0m\u001b[0;34m\u001b[0m\u001b[0;34m\u001b[0m\u001b[0m\n\u001b[0m\u001b[1;32m    227\u001b[0m \u001b[0;34m\u001b[0m\u001b[0m\n\u001b[1;32m    228\u001b[0m \u001b[0;34m\u001b[0m\u001b[0m\n",
      "\u001b[0;32m~/.local/lib/python3.6/site-packages/pandas/core/reshape/concat.py\u001b[0m in \u001b[0;36mget_result\u001b[0;34m(self)\u001b[0m\n\u001b[1;32m    421\u001b[0m             new_data = concatenate_block_managers(\n\u001b[1;32m    422\u001b[0m                 \u001b[0mmgrs_indexers\u001b[0m\u001b[0;34m,\u001b[0m \u001b[0mself\u001b[0m\u001b[0;34m.\u001b[0m\u001b[0mnew_axes\u001b[0m\u001b[0;34m,\u001b[0m \u001b[0mconcat_axis\u001b[0m\u001b[0;34m=\u001b[0m\u001b[0mself\u001b[0m\u001b[0;34m.\u001b[0m\u001b[0maxis\u001b[0m\u001b[0;34m,\u001b[0m\u001b[0;34m\u001b[0m\u001b[0;34m\u001b[0m\u001b[0m\n\u001b[0;32m--> 423\u001b[0;31m                 copy=self.copy)\n\u001b[0m\u001b[1;32m    424\u001b[0m             \u001b[0;32mif\u001b[0m \u001b[0;32mnot\u001b[0m \u001b[0mself\u001b[0m\u001b[0;34m.\u001b[0m\u001b[0mcopy\u001b[0m\u001b[0;34m:\u001b[0m\u001b[0;34m\u001b[0m\u001b[0;34m\u001b[0m\u001b[0m\n\u001b[1;32m    425\u001b[0m                 \u001b[0mnew_data\u001b[0m\u001b[0;34m.\u001b[0m\u001b[0m_consolidate_inplace\u001b[0m\u001b[0;34m(\u001b[0m\u001b[0;34m)\u001b[0m\u001b[0;34m\u001b[0m\u001b[0;34m\u001b[0m\u001b[0m\n",
      "\u001b[0;32m~/.local/lib/python3.6/site-packages/pandas/core/internals.py\u001b[0m in \u001b[0;36mconcatenate_block_managers\u001b[0;34m(mgrs_indexers, axes, concat_axis, copy)\u001b[0m\n\u001b[1;32m   5416\u001b[0m         \u001b[0;32melif\u001b[0m \u001b[0mis_uniform_join_units\u001b[0m\u001b[0;34m(\u001b[0m\u001b[0mjoin_units\u001b[0m\u001b[0;34m)\u001b[0m\u001b[0;34m:\u001b[0m\u001b[0;34m\u001b[0m\u001b[0;34m\u001b[0m\u001b[0m\n\u001b[1;32m   5417\u001b[0m             b = join_units[0].block.concat_same_type(\n\u001b[0;32m-> 5418\u001b[0;31m                 [ju.block for ju in join_units], placement=placement)\n\u001b[0m\u001b[1;32m   5419\u001b[0m         \u001b[0;32melse\u001b[0m\u001b[0;34m:\u001b[0m\u001b[0;34m\u001b[0m\u001b[0;34m\u001b[0m\u001b[0m\n\u001b[1;32m   5420\u001b[0m             b = make_block(\n",
      "\u001b[0;32m~/.local/lib/python3.6/site-packages/pandas/core/internals.py\u001b[0m in \u001b[0;36mconcat_same_type\u001b[0;34m(self, to_concat, placement)\u001b[0m\n\u001b[1;32m    366\u001b[0m         \"\"\"\n\u001b[1;32m    367\u001b[0m         values = self._concatenator([blk.values for blk in to_concat],\n\u001b[0;32m--> 368\u001b[0;31m                                     axis=self.ndim - 1)\n\u001b[0m\u001b[1;32m    369\u001b[0m         return self.make_block_same_class(\n\u001b[1;32m    370\u001b[0m             values, placement=placement or slice(0, len(values), 1))\n",
      "\u001b[0;31mKeyboardInterrupt\u001b[0m: "
     ]
    }
   ],
   "source": [
    "Kalal10= convert_txt_to_df(\"/home/soham/AeroMIT/dataset_rnn_yolo/TrackingDataset/Kalal/Volkswagen\",\"gt.txt\",640,480)\n",
    "Kalal10 = convert_to_rnn_format(\"truck\",Kalal10)\n",
    "Kalal10.to_csv(\"/home/soham/AeroMIT/dataset_rnn_yolo/TrackingDataset/Kalal/Volkswagen/rnn_gt.csv\",sep='\\t', encoding='utf-8')"
   ]
  },
  {
   "cell_type": "code",
   "execution_count": null,
   "metadata": {},
   "outputs": [],
   "source": [
    "Kwon1= convert_txt_to_df(\"/home/soham/AeroMIT/dataset_rnn_yolo/TrackingDataset/Kwon/diving\",\"gt.txt\",400,224)\n",
    "Kwon1 = convert_to_rnn_format(\"person\",Kwon1)\n",
    "Kwon1.to_csv(\"/home/soham/AeroMIT/dataset_rnn_yolo/TrackingDataset/Kwon/diving/rnn_gt.csv\",sep='\\t', encoding='utf-8')"
   ]
  },
  {
   "cell_type": "code",
   "execution_count": null,
   "metadata": {},
   "outputs": [],
   "source": [
    "Kwon2= convert_txt_to_df(\"/home/soham/AeroMIT/dataset_rnn_yolo/TrackingDataset/Kwon/gym\",\"gt.txt\",426,234)\n",
    "Kwon2 = convert_to_rnn_format(\"person\",Kwon2)\n",
    "Kwon2.to_csv(\"/home/soham/AeroMIT/dataset_rnn_yolo/TrackingDataset/Kwon/gym/rnn_gt.csv\",sep='\\t', encoding='utf-8')"
   ]
  },
  {
   "cell_type": "code",
   "execution_count": null,
   "metadata": {},
   "outputs": [],
   "source": [
    "Kwon3= convert_txt_to_df(\"/home/soham/AeroMIT/dataset_rnn_yolo/TrackingDataset/Kwon/jump\",\"gt.txt\",416,234)\n",
    "Kwon3 = convert_to_rnn_format(\"person\",Kwon3)\n",
    "Kwon3.to_csv(\"/home/soham/AeroMIT/dataset_rnn_yolo/TrackingDataset/Kwon/jump/rnn_gt.csv\",sep='\\t', encoding='utf-8')"
   ]
  },
  {
   "cell_type": "code",
   "execution_count": null,
   "metadata": {},
   "outputs": [],
   "source": [
    "Kwon4= convert_txt_to_df(\"/home/soham/AeroMIT/dataset_rnn_yolo/TrackingDataset/Kwon/trans\",\"gt.txt\",640,332)\n",
    "Kwon4 = convert_to_rnn_format(\"person\",Kwon4)\n",
    "Kwon4.to_csv(\"/home/soham/AeroMIT/dataset_rnn_yolo/TrackingDataset/Kwon/trans/rnn_gt.csv\",sep='\\t', encoding='utf-8')"
   ]
  },
  {
   "cell_type": "code",
   "execution_count": null,
   "metadata": {},
   "outputs": [],
   "source": [
    "Other1= convert_txt_to_df(\"/home/soham/AeroMIT/dataset_rnn_yolo/TrackingDataset/Other/Asada\",\"gt.txt\",480,270)\n",
    "Other1 = convert_to_rnn_format(\"person\",Other1)\n",
    "Other1.to_csv(\"/home/soham/AeroMIT/dataset_rnn_yolo/TrackingDataset/Other/Asada/rnn_gt.csv\",sep='\\t', encoding='utf-8')"
   ]
  },
  {
   "cell_type": "code",
   "execution_count": null,
   "metadata": {},
   "outputs": [],
   "source": [
    "Other2= convert_txt_to_df(\"/home/soham/AeroMIT/dataset_rnn_yolo/TrackingDataset/Other/drunk2\",\"gt.txt\",508,336)\n",
    "Other2 = convert_to_rnn_format(\"car\",Other2)\n",
    "Other2.to_csv(\"/home/soham/AeroMIT/dataset_rnn_yolo/TrackingDataset/Other/drunk2/rnn_gt.csv\",sep='\\t', encoding='utf-8')"
   ]
  },
  {
   "cell_type": "code",
   "execution_count": null,
   "metadata": {},
   "outputs": [],
   "source": [
    "Other3= convert_txt_to_df(\"/home/soham/AeroMIT/dataset_rnn_yolo/TrackingDataset/Other/dudek-face\",\"gt.txt\",720,448)\n",
    "Other3 = convert_to_rnn_format(\"person\",Other3)\n",
    "Other3.to_csv(\"/home/soham/AeroMIT/dataset_rnn_yolo/TrackingDataset/Other/dudek-face/rnn_gt.csv\",sep='\\t', encoding='utf-8')"
   ]
  },
  {
   "cell_type": "code",
   "execution_count": null,
   "metadata": {},
   "outputs": [],
   "source": [
    "Other4= convert_txt_to_df(\"/home/soham/AeroMIT/dataset_rnn_yolo/TrackingDataset/Other/faceocc1\",\"gt.txt\",352,288)\n",
    "Other4 = convert_to_rnn_format(\"person\",Other4)\n",
    "Other4.to_csv(\"/home/soham/AeroMIT/dataset_rnn_yolo/TrackingDataset/Other/faceocc1/rnn_gt.csv\",sep='\\t', encoding='utf-8')"
   ]
  },
  {
   "cell_type": "code",
   "execution_count": null,
   "metadata": {},
   "outputs": [],
   "source": [
    "Other5= convert_txt_to_df(\"/home/soham/AeroMIT/dataset_rnn_yolo/TrackingDataset/Other/figure_skating\",\"gt.txt\",480,270)\n",
    "Other5 = convert_to_rnn_format(\"person\",Other5)\n",
    "Other5.to_csv(\"/home/soham/AeroMIT/dataset_rnn_yolo/TrackingDataset/Other/figure_skating/rnn_gt.csv\",sep='\\t', encoding='utf-8')"
   ]
  },
  {
   "cell_type": "code",
   "execution_count": null,
   "metadata": {},
   "outputs": [],
   "source": [
    "Other6= convert_txt_to_df(\"/home/soham/AeroMIT/dataset_rnn_yolo/TrackingDataset/Other/woman\",\"gt.txt\",352,288)\n",
    "Other6 = convert_to_rnn_format(\"person\",Other6)\n",
    "Other6.to_csv(\"/home/soham/AeroMIT/dataset_rnn_yolo/TrackingDataset/Other/woman/rnn_gt.csv\",sep='\\t', encoding='utf-8')"
   ]
  },
  {
   "cell_type": "code",
   "execution_count": null,
   "metadata": {},
   "outputs": [],
   "source": [
    "prost1= convert_txt_to_df(\"/home/soham/AeroMIT/dataset_rnn_yolo/TrackingDataset/PROST/board\",\"gt.txt\",640,480)\n",
    "prost1 = convert_to_rnn_format(\"remote\",prost1)\n",
    "prost1.to_csv(\"/home/soham/AeroMIT/dataset_rnn_yolo/TrackingDataset/PROST/board/rnn_gt.csv\",sep='\\t', encoding='utf-8')"
   ]
  },
  {
   "cell_type": "code",
   "execution_count": null,
   "metadata": {},
   "outputs": [],
   "source": [
    "prost2= convert_txt_to_df(\"/home/soham/AeroMIT/dataset_rnn_yolo/TrackingDataset/PROST/box\",\"gt.txt\",640,480)\n",
    "prost2 = convert_to_rnn_format(\"box\",prost2)\n",
    "prost2.to_csv(\"/home/soham/AeroMIT/dataset_rnn_yolo/TrackingDataset/PROST/box/rnn_gt.csv\",sep='\\t', encoding='utf-8')"
   ]
  },
  {
   "cell_type": "code",
   "execution_count": null,
   "metadata": {},
   "outputs": [],
   "source": [
    "prost3= convert_txt_to_df(\"/home/soham/AeroMIT/dataset_rnn_yolo/TrackingDataset/PROST/lemming\",\"gt.txt\",640,480)\n",
    "prost3 = convert_to_rnn_format(\"teddy bear\",prost3)\n",
    "prost3.to_csv(\"/home/soham/AeroMIT/dataset_rnn_yolo/TrackingDataset/PROST/lemming/rnn_gt.csv\",sep='\\t', encoding='utf-8')"
   ]
  },
  {
   "cell_type": "code",
   "execution_count": null,
   "metadata": {},
   "outputs": [],
   "source": [
    "prost4= convert_txt_to_df(\"/home/soham/AeroMIT/dataset_rnn_yolo/TrackingDataset/PROST/liquor\",\"gt.txt\",640,480)\n",
    "prost4 = convert_to_rnn_format(\"bottle\",prost4)\n",
    "prost4.to_csv(\"/home/soham/AeroMIT/dataset_rnn_yolo/TrackingDataset/PROST/liquor/rnn_gt.csv\",sep='\\t', encoding='utf-8')"
   ]
  },
  {
   "cell_type": "code",
   "execution_count": null,
   "metadata": {},
   "outputs": [],
   "source": [
    "ross1= convert_txt_to_df(\"/home/soham/AeroMIT/dataset_rnn_yolo/TrackingDataset/Ross/car11\",\"gt.txt\",320,240)\n",
    "ross1 = convert_to_rnn_format(\"car\",ross1)\n",
    "ross1.to_csv(\"/home/soham/AeroMIT/dataset_rnn_yolo/TrackingDataset/Ross/car11/rnn_gt.csv\",sep='\\t', encoding='utf-8')"
   ]
  },
  {
   "cell_type": "code",
   "execution_count": null,
   "metadata": {},
   "outputs": [],
   "source": [
    "ross2= convert_txt_to_df(\"/home/soham/AeroMIT/dataset_rnn_yolo/TrackingDataset/Ross/dog1\",\"gt.txt\",320,240)\n",
    "ross2 = convert_to_rnn_format(\"dog\",ross2)\n",
    "ross2.to_csv(\"/home/soham/AeroMIT/dataset_rnn_yolo/TrackingDataset/Ross/dog1/rnn_gt.csv\",sep='\\t', encoding='utf-8')"
   ]
  },
  {
   "cell_type": "code",
   "execution_count": null,
   "metadata": {},
   "outputs": [],
   "source": [
    "ross3= convert_txt_to_df(\"/home/soham/AeroMIT/dataset_rnn_yolo/TrackingDataset/Ross/Sylvestr\",\"gt.txt\",320,240)\n",
    "ross3= convert_to_rnn_format(\"teddy bear\",ross3)\n",
    "ross3.to_csv(\"/home/soham/AeroMIT/dataset_rnn_yolo/TrackingDataset/Ross/Sylvestr/rnn_gt.csv\",sep='\\t', encoding='utf-8')"
   ]
  },
  {
   "cell_type": "code",
   "execution_count": null,
   "metadata": {},
   "outputs": [],
   "source": [
    "ross4= convert_txt_to_df(\"/home/soham/AeroMIT/dataset_rnn_yolo/TrackingDataset/Ross/trellis\",\"gt.txt\",320,240)\n",
    "ross4 = convert_to_rnn_format(\"person\",ross4)\n",
    "ross4.to_csv(\"/home/soham/AeroMIT/dataset_rnn_yolo/TrackingDataset/Ross/trellis/rnn_gt.csv\",sep='\\t', encoding='utf-8')"
   ]
  },
  {
   "cell_type": "code",
   "execution_count": null,
   "metadata": {},
   "outputs": [],
   "source": [
    "thang1= convert_txt_to_df(\"/home/soham/AeroMIT/dataset_rnn_yolo/TrackingDataset/Thang/coke\",\"gt.txt\",320,240)\n",
    "thang1= convert_to_rnn_format(\"cup\",thang1)\n",
    "thang1.to_csv(\"/home/soham/AeroMIT/dataset_rnn_yolo/TrackingDataset/Thang/coke/rnn_gt.csv\",sep='\\t', encoding='utf-8')"
   ]
  },
  {
   "cell_type": "code",
   "execution_count": null,
   "metadata": {},
   "outputs": [],
   "source": [
    "thang2= convert_txt_to_df(\"/home/soham/AeroMIT/dataset_rnn_yolo/TrackingDataset/Thang/person\",\"gt.txt\",320,240)\n",
    "thang2 = convert_to_rnn_format(\"person\",thang2)\n",
    "thang2.to_csv(\"/home/soham/AeroMIT/dataset_rnn_yolo/TrackingDataset/Thang/person/rnn_gt.csv\",sep='\\t', encoding='utf-8')"
   ]
  },
  {
   "cell_type": "code",
   "execution_count": null,
   "metadata": {},
   "outputs": [],
   "source": [
    "thang3= convert_txt_to_df(\"/home/soham/AeroMIT/dataset_rnn_yolo/TrackingDataset/Thang/tiger1\",\"gt.txt\",320,240)\n",
    "thang3 = convert_to_rnn_format(\"teddy bear\",thang3)\n",
    "thang3.to_csv(\"/home/soham/AeroMIT/dataset_rnn_yolo/TrackingDataset/Thang/tiger1/rnn_gt.csv\",sep='\\t', encoding='utf-8')"
   ]
  },
  {
   "cell_type": "code",
   "execution_count": null,
   "metadata": {},
   "outputs": [],
   "source": [
    "thang4= convert_txt_to_df(\"/home/soham/AeroMIT/dataset_rnn_yolo/TrackingDataset/Thang/tiger2\",\"gt.txt\",320,240)\n",
    "thang4 = convert_to_rnn_format(\"teddy bear\",thang4)\n",
    "thang4.to_csv(\"/home/soham/AeroMIT/dataset_rnn_yolo/TrackingDataset/Thang/tiger2/rnn_gt.csv\",sep='\\t', encoding='utf-8')"
   ]
  },
  {
   "cell_type": "code",
   "execution_count": null,
   "metadata": {},
   "outputs": [],
   "source": [
    "wang1= convert_txt_to_df(\"/home/soham/AeroMIT/dataset_rnn_yolo/TrackingDataset/Wang/bird_1\",\"gt.txt\",720,400)\n",
    "wang1= convert_to_rnn_format(\"bird\",wang1)\n",
    "wang1.to_csv(\"/home/soham/AeroMIT/dataset_rnn_yolo/TrackingDataset/Wang/bird_1/rnn_gt.csv\",sep='\\t', encoding='utf-8')"
   ]
  },
  {
   "cell_type": "code",
   "execution_count": null,
   "metadata": {},
   "outputs": [],
   "source": [
    "wang2= convert_txt_to_df(\"/home/soham/AeroMIT/dataset_rnn_yolo/TrackingDataset/Wang/bird_2\",\"gt.txt\",720,400)\n",
    "wang2 = convert_to_rnn_format(\"bird\",wang2)\n",
    "wang2.to_csv(\"/home/soham/AeroMIT/dataset_rnn_yolo/TrackingDataset/Wang/bird_2/rnn_gt.csv\",sep='\\t', encoding='utf-8')"
   ]
  },
  {
   "cell_type": "code",
   "execution_count": null,
   "metadata": {},
   "outputs": [],
   "source": [
    "wang3= convert_txt_to_df(\"/home/soham/AeroMIT/dataset_rnn_yolo/TrackingDataset/Wang/bolt\",\"gt.txt\",640,360)\n",
    "wang3 = convert_to_rnn_format(\"bird\",wang3)\n",
    "wang3.to_csv(\"/home/soham/AeroMIT/dataset_rnn_yolo/TrackingDataset/Wang/bolt/rnn_gt.csv\",sep='\\t', encoding='utf-8')"
   ]
  },
  {
   "cell_type": "code",
   "execution_count": null,
   "metadata": {},
   "outputs": [],
   "source": [
    "wang4= convert_txt_to_df(\"/home/soham/AeroMIT/dataset_rnn_yolo/TrackingDataset/Wang/girl_mov\",\"gt.txt\",640,480)\n",
    "wang4 = convert_to_rnn_format(\"person\",wang4)\n",
    "wang4.to_csv(\"/home/soham/AeroMIT/dataset_rnn_yolo/TrackingDataset/Wang/girl_mov/rnn_gt.csv\",sep='\\t', encoding='utf-8')"
   ]
  },
  {
   "cell_type": "code",
   "execution_count": null,
   "metadata": {},
   "outputs": [],
   "source": []
  }
 ],
 "metadata": {
  "kernelspec": {
   "display_name": "Python 3",
   "language": "python",
   "name": "python3"
  },
  "language_info": {
   "codemirror_mode": {
    "name": "ipython",
    "version": 3
   },
   "file_extension": ".py",
   "mimetype": "text/x-python",
   "name": "python",
   "nbconvert_exporter": "python",
   "pygments_lexer": "ipython3",
   "version": "3.6.7"
  }
 },
 "nbformat": 4,
 "nbformat_minor": 2
}
