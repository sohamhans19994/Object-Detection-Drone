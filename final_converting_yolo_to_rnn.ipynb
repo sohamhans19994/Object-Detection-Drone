{
 "cells": [
  {
   "cell_type": "code",
   "execution_count": 1,
   "metadata": {},
   "outputs": [],
   "source": [
    "import numpy as np\n",
    "import pandas as pd\n",
    "import os"
   ]
  },
  {
   "cell_type": "code",
   "execution_count": null,
   "metadata": {},
   "outputs": [],
   "source": [
    "#write the code for the bash darknet output from here\n",
    "#make a function"
   ]
  },
  {
   "cell_type": "code",
   "execution_count": 2,
   "metadata": {},
   "outputs": [],
   "source": [
    "def result_reader(folder_path,file_name):\n",
    "    os.chdir(folder_path)\n",
    "    data = open(file_name,'r').read()\n",
    "    return data"
   ]
  },
  {
   "cell_type": "code",
   "execution_count": 3,
   "metadata": {},
   "outputs": [],
   "source": [
    "def implist(data):\n",
    "    imp_list = []\n",
    "    first_split = data.split()\n",
    "    for ele in first_split:\n",
    "        if(ele[0].isdigit()==True):\n",
    "            if(ele[-1] == ','):\n",
    "                ele = ele.replace(\",\",\"\")\n",
    "            if(ele[-1] == '%'):\n",
    "                ele = ele.replace(\"%\",\"\")\n",
    "                ele = float(ele)\n",
    "                ele = ele/100\n",
    "            ele = float(ele)\n",
    "            imp_list.append(ele)\n",
    "        else:\n",
    "            if(ele[-1] == ':'):\n",
    "                ele = ele.replace(\":\",\"\")\n",
    "                imp_list.append(ele)\n",
    "    imp_list = imp_list[2:len(imp_list)]\n",
    "    return imp_list"
   ]
  },
  {
   "cell_type": "code",
   "execution_count": 4,
   "metadata": {},
   "outputs": [],
   "source": [
    "def breaking_into_components(imp_list):\n",
    "    new_implist = []\n",
    "    i = 0\n",
    "    while(i<len(imp_list)):\n",
    "        temp = imp_list[i:i+6]\n",
    "        i = i+6\n",
    "        new_implist.append(temp)\n",
    "    return new_implist"
   ]
  },
  {
   "cell_type": "code",
   "execution_count": 5,
   "metadata": {},
   "outputs": [],
   "source": [
    "def make_final3d(random_3d,imp_list):\n",
    "    labels = [\"person\", \"bicycle\", \"car\", \"motorcycle\", \"airplane\", \"bus\", \"train\", \"truck\", \"boat\", \"traffic light\", \"fire hydrant\", \"street sign\", \"stop sign\", \"parking meter\", \"bench\", \"bird\", \"cat\", \"dog\", \"horse\", \"sheep\", \"cow\", \"elephant\", \"bear\", \"zebra\", \"giraffe\", \"hat\", \"backpack\", \"umbrella\", \"shoe\", \"eye\", \"glasses\", \"handbag\", \"tie\", \"suitcase\", \"frisbee\", \"skis\", \"snowboard\", \"sports ball\", \"kite\", \"baseball bat\", \"baseball glove\", \"skateboard\", \"surfboard\", \"tennis racket\", \"bottle\", \"plate\", \"wine glass\", \"cup\", \"fork\", \"knife\", \"spoon\", \"bowl\", \"banana\", \"apple\", \"sandwich\", \"orange\", \"broccoli\", \"carrot\", \"hot dog\", \"pizza\", \"donut\", \"cake\", \"chair\", \"couch\", \"potted plant\", \"bed\", \"mirror\", \"dining table\", \"window\", \"desk\", \"toilet\", \"door\", \"tv\", \"laptop\", \"mouse\", \"remote\", \"keyboard\", \"cell phone\", \"microwave\", \"oven\", \"toaster\", \"sink\", \"refrigerator\", \"blender\", \"book\", \"clock\", \"vase\", \"scissors\", \"teddy bear\", \"hair drier\", \"toothbrush\", \"hair brush\"] \n",
    "    random_3d[:,:,0] = 0\n",
    "    for obj in imp_list:\n",
    "        xcenter = obj[2]\n",
    "        ycenter = obj[3]\n",
    "        xgrid_num = int(xcenter/(1/19)) + 1\n",
    "        xcenter_wrt_grid = xcenter/(1/19) - int(xcenter/(1/19))\n",
    "        ygrid_num = int(ycenter/(1/19)) + 1\n",
    "        ycenter_wrt_grid = ycenter/(1/19) - int(ycenter/(1/19))\n",
    "        random_3d[xgrid_num,ygrid_num,0] = obj[1]\n",
    "        random_3d[xgrid_num,ygrid_num,1] = xcenter_wrt_grid\n",
    "        random_3d[xgrid_num,ygrid_num,2] = xcenter_wrt_grid\n",
    "        random_3d[xgrid_num,ygrid_num,3] = obj[4]\n",
    "        random_3d[xgrid_num,ygrid_num,4] = obj[5]\n",
    "        random_3d[xgrid_num,ygrid_num,5:96] = 0\n",
    "        thing_num = 0\n",
    "        for thing in labels:\n",
    "            if obj[0] == thing:\n",
    "                random_3d[xgrid_num][ygrid_num][thing_num+5] = 1\n",
    "                break\n",
    "            thing_num = thing_num+1\n",
    "    return random_3d"
   ]
  },
  {
   "cell_type": "code",
   "execution_count": 7,
   "metadata": {},
   "outputs": [],
   "source": [
    "def add_to_df(final_flat,Yolo_preds_df):\n",
    "    final_row_df = pd.DataFrame(final_flat)\n",
    "    Yolo_preds_df.append(final_row_df)\n",
    "    return Yolo_preds_df"
   ]
  },
  {
   "cell_type": "code",
   "execution_count": 11,
   "metadata": {},
   "outputs": [],
   "source": [
    "def rnn_input(image_folder_path,image_name,result_folder_path,result_file_name):\n",
    "    #darknet function here\n",
    "    data = result_reader(result_folder_path,result_file_name)\n",
    "    imp_list = implist(data)\n",
    "    new_implist = breaking_into_components(imp_list)\n",
    "    random_3d = np.random.randn(19,19,96)\n",
    "    random_3d = random_3d - random_3d.astype(int)\n",
    "    final3d = make_final3d(random_3d,imp_list)\n",
    "    final_flat = final_3d.flatten()\n",
    "    #make the dataframe whenever u use this function before calling it\n",
    "    #Yolo_preds_df = pd.DataFrame()\n",
    "    #Yolo_preds_df = add_to_df(final_flat,Yolo_preds_df)\n",
    "    return final_flat"
   ]
  },
  {
   "cell_type": "code",
   "execution_count": null,
   "metadata": {},
   "outputs": [],
   "source": []
  }
 ],
 "metadata": {
  "kernelspec": {
   "display_name": "Python 3",
   "language": "python",
   "name": "python3"
  },
  "language_info": {
   "codemirror_mode": {
    "name": "ipython",
    "version": 3
   },
   "file_extension": ".py",
   "mimetype": "text/x-python",
   "name": "python",
   "nbconvert_exporter": "python",
   "pygments_lexer": "ipython3",
   "version": "3.6.8"
  }
 },
 "nbformat": 4,
 "nbformat_minor": 2
}
