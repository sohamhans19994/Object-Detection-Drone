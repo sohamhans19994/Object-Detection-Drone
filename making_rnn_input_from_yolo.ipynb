{
 "cells": [
  {
   "cell_type": "code",
   "execution_count": 43,
   "metadata": {
    "scrolled": true
   },
   "outputs": [
    {
     "name": "stderr",
     "output_type": "stream",
     "text": [
      "layer     filters    size              input                output\n",
      "    0 conv     32  3 x 3 / 1   608 x 608 x   3   ->   608 x 608 x  32  0.639 BFLOPs\n",
      "    1 conv     64  3 x 3 / 2   608 x 608 x  32   ->   304 x 304 x  64  3.407 BFLOPs\n",
      "    2 conv     32  1 x 1 / 1   304 x 304 x  64   ->   304 x 304 x  32  0.379 BFLOPs\n",
      "    3 conv     64  3 x 3 / 1   304 x 304 x  32   ->   304 x 304 x  64  3.407 BFLOPs\n",
      "    4 res    1                 304 x 304 x  64   ->   304 x 304 x  64\n",
      "    5 conv    128  3 x 3 / 2   304 x 304 x  64   ->   152 x 152 x 128  3.407 BFLOPs\n",
      "    6 conv     64  1 x 1 / 1   152 x 152 x 128   ->   152 x 152 x  64  0.379 BFLOPs\n",
      "    7 conv    128  3 x 3 / 1   152 x 152 x  64   ->   152 x 152 x 128  3.407 BFLOPs\n",
      "    8 res    5                 152 x 152 x 128   ->   152 x 152 x 128\n",
      "    9 conv     64  1 x 1 / 1   152 x 152 x 128   ->   152 x 152 x  64  0.379 BFLOPs\n",
      "   10 conv    128  3 x 3 / 1   152 x 152 x  64   ->   152 x 152 x 128  3.407 BFLOPs\n",
      "   11 res    8                 152 x 152 x 128   ->   152 x 152 x 128\n",
      "   12 conv    256  3 x 3 / 2   152 x 152 x 128   ->    76 x  76 x 256  3.407 BFLOPs\n",
      "   13 conv    128  1 x 1 / 1    76 x  76 x 256   ->    76 x  76 x 128  0.379 BFLOPs\n",
      "   14 conv    256  3 x 3 / 1    76 x  76 x 128   ->    76 x  76 x 256  3.407 BFLOPs\n",
      "   15 res   12                  76 x  76 x 256   ->    76 x  76 x 256\n",
      "   16 conv    128  1 x 1 / 1    76 x  76 x 256   ->    76 x  76 x 128  0.379 BFLOPs\n",
      "   17 conv    256  3 x 3 / 1    76 x  76 x 128   ->    76 x  76 x 256  3.407 BFLOPs\n",
      "   18 res   15                  76 x  76 x 256   ->    76 x  76 x 256\n",
      "   19 conv    128  1 x 1 / 1    76 x  76 x 256   ->    76 x  76 x 128  0.379 BFLOPs\n",
      "   20 conv    256  3 x 3 / 1    76 x  76 x 128   ->    76 x  76 x 256  3.407 BFLOPs\n",
      "   21 res   18                  76 x  76 x 256   ->    76 x  76 x 256\n",
      "   22 conv    128  1 x 1 / 1    76 x  76 x 256   ->    76 x  76 x 128  0.379 BFLOPs\n",
      "   23 conv    256  3 x 3 / 1    76 x  76 x 128   ->    76 x  76 x 256  3.407 BFLOPs\n",
      "   24 res   21                  76 x  76 x 256   ->    76 x  76 x 256\n",
      "   25 conv    128  1 x 1 / 1    76 x  76 x 256   ->    76 x  76 x 128  0.379 BFLOPs\n",
      "   26 conv    256  3 x 3 / 1    76 x  76 x 128   ->    76 x  76 x 256  3.407 BFLOPs\n",
      "   27 res   24                  76 x  76 x 256   ->    76 x  76 x 256\n",
      "   28 conv    128  1 x 1 / 1    76 x  76 x 256   ->    76 x  76 x 128  0.379 BFLOPs\n",
      "   29 conv    256  3 x 3 / 1    76 x  76 x 128   ->    76 x  76 x 256  3.407 BFLOPs\n",
      "   30 res   27                  76 x  76 x 256   ->    76 x  76 x 256\n",
      "   31 conv    128  1 x 1 / 1    76 x  76 x 256   ->    76 x  76 x 128  0.379 BFLOPs\n",
      "   32 conv    256  3 x 3 / 1    76 x  76 x 128   ->    76 x  76 x 256  3.407 BFLOPs\n",
      "   33 res   30                  76 x  76 x 256   ->    76 x  76 x 256\n",
      "   34 conv    128  1 x 1 / 1    76 x  76 x 256   ->    76 x  76 x 128  0.379 BFLOPs\n",
      "   35 conv    256  3 x 3 / 1    76 x  76 x 128   ->    76 x  76 x 256  3.407 BFLOPs\n",
      "   36 res   33                  76 x  76 x 256   ->    76 x  76 x 256\n",
      "   37 conv    512  3 x 3 / 2    76 x  76 x 256   ->    38 x  38 x 512  3.407 BFLOPs\n",
      "   38 conv    256  1 x 1 / 1    38 x  38 x 512   ->    38 x  38 x 256  0.379 BFLOPs\n",
      "   39 conv    512  3 x 3 / 1    38 x  38 x 256   ->    38 x  38 x 512  3.407 BFLOPs\n",
      "   40 res   37                  38 x  38 x 512   ->    38 x  38 x 512\n",
      "   41 conv    256  1 x 1 / 1    38 x  38 x 512   ->    38 x  38 x 256  0.379 BFLOPs\n",
      "   42 conv    512  3 x 3 / 1    38 x  38 x 256   ->    38 x  38 x 512  3.407 BFLOPs\n",
      "   43 res   40                  38 x  38 x 512   ->    38 x  38 x 512\n",
      "   44 conv    256  1 x 1 / 1    38 x  38 x 512   ->    38 x  38 x 256  0.379 BFLOPs\n",
      "   45 conv    512  3 x 3 / 1    38 x  38 x 256   ->    38 x  38 x 512  3.407 BFLOPs\n",
      "   46 res   43                  38 x  38 x 512   ->    38 x  38 x 512\n",
      "   47 conv    256  1 x 1 / 1    38 x  38 x 512   ->    38 x  38 x 256  0.379 BFLOPs\n",
      "   48 conv    512  3 x 3 / 1    38 x  38 x 256   ->    38 x  38 x 512  3.407 BFLOPs\n",
      "   49 res   46                  38 x  38 x 512   ->    38 x  38 x 512\n",
      "   50 conv    256  1 x 1 / 1    38 x  38 x 512   ->    38 x  38 x 256  0.379 BFLOPs\n",
      "   51 conv    512  3 x 3 / 1    38 x  38 x 256   ->    38 x  38 x 512  3.407 BFLOPs\n",
      "   52 res   49                  38 x  38 x 512   ->    38 x  38 x 512\n",
      "   53 conv    256  1 x 1 / 1    38 x  38 x 512   ->    38 x  38 x 256  0.379 BFLOPs\n",
      "   54 conv    512  3 x 3 / 1    38 x  38 x 256   ->    38 x  38 x 512  3.407 BFLOPs\n",
      "   55 res   52                  38 x  38 x 512   ->    38 x  38 x 512\n",
      "   56 conv    256  1 x 1 / 1    38 x  38 x 512   ->    38 x  38 x 256  0.379 BFLOPs\n",
      "   57 conv    512  3 x 3 / 1    38 x  38 x 256   ->    38 x  38 x 512  3.407 BFLOPs\n",
      "   58 res   55                  38 x  38 x 512   ->    38 x  38 x 512\n",
      "   59 conv    256  1 x 1 / 1    38 x  38 x 512   ->    38 x  38 x 256  0.379 BFLOPs\n",
      "   60 conv    512  3 x 3 / 1    38 x  38 x 256   ->    38 x  38 x 512  3.407 BFLOPs\n",
      "   61 res   58                  38 x  38 x 512   ->    38 x  38 x 512\n",
      "   62 conv   1024  3 x 3 / 2    38 x  38 x 512   ->    19 x  19 x1024  3.407 BFLOPs\n",
      "   63 conv    512  1 x 1 / 1    19 x  19 x1024   ->    19 x  19 x 512  0.379 BFLOPs\n",
      "   64 conv   1024  3 x 3 / 1    19 x  19 x 512   ->    19 x  19 x1024  3.407 BFLOPs\n",
      "   65 res   62                  19 x  19 x1024   ->    19 x  19 x1024\n",
      "   66 conv    512  1 x 1 / 1    19 x  19 x1024   ->    19 x  19 x 512  0.379 BFLOPs\n",
      "   67 conv   1024  3 x 3 / 1    19 x  19 x 512   ->    19 x  19 x1024  3.407 BFLOPs\n",
      "   68 res   65                  19 x  19 x1024   ->    19 x  19 x1024\n",
      "   69 conv    512  1 x 1 / 1    19 x  19 x1024   ->    19 x  19 x 512  0.379 BFLOPs\n",
      "   70 conv   1024  3 x 3 / 1    19 x  19 x 512   ->    19 x  19 x1024  3.407 BFLOPs\n",
      "   71 res   68                  19 x  19 x1024   ->    19 x  19 x1024\n",
      "   72 conv    512  1 x 1 / 1    19 x  19 x1024   ->    19 x  19 x 512  0.379 BFLOPs\n",
      "   73 conv   1024  3 x 3 / 1    19 x  19 x 512   ->    19 x  19 x1024  3.407 BFLOPs\n",
      "   74 res   71                  19 x  19 x1024   ->    19 x  19 x1024\n",
      "   75 conv    512  1 x 1 / 1    19 x  19 x1024   ->    19 x  19 x 512  0.379 BFLOPs\n",
      "   76 conv   1024  3 x 3 / 1    19 x  19 x 512   ->    19 x  19 x1024  3.407 BFLOPs\n",
      "   77 conv    512  1 x 1 / 1    19 x  19 x1024   ->    19 x  19 x 512  0.379 BFLOPs\n",
      "   78 conv   1024  3 x 3 / 1    19 x  19 x 512   ->    19 x  19 x1024  3.407 BFLOPs\n",
      "   79 conv    512  1 x 1 / 1    19 x  19 x1024   ->    19 x  19 x 512  0.379 BFLOPs\n",
      "   80 conv   1024  3 x 3 / 1    19 x  19 x 512   ->    19 x  19 x1024  3.407 BFLOPs\n",
      "   81 conv    255  1 x 1 / 1    19 x  19 x1024   ->    19 x  19 x 255  0.189 BFLOPs\n",
      "   82 yolo\n",
      "   83 route  79\n",
      "   84 conv    256  1 x 1 / 1    19 x  19 x 512   ->    19 x  19 x 256  0.095 BFLOPs\n",
      "   85 upsample            2x    19 x  19 x 256   ->    38 x  38 x 256\n",
      "   86 route  85 61\n",
      "   87 conv    256  1 x 1 / 1    38 x  38 x 768   ->    38 x  38 x 256  0.568 BFLOPs\n",
      "   88 conv    512  3 x 3 / 1    38 x  38 x 256   ->    38 x  38 x 512  3.407 BFLOPs\n",
      "   89 conv    256  1 x 1 / 1    38 x  38 x 512   ->    38 x  38 x 256  0.379 BFLOPs\n",
      "   90 conv    512  3 x 3 / 1    38 x  38 x 256   ->    38 x  38 x 512  3.407 BFLOPs\n",
      "   91 conv    256  1 x 1 / 1    38 x  38 x 512   ->    38 x  38 x 256  0.379 BFLOPs\n",
      "   92 conv    512  3 x 3 / 1    38 x  38 x 256   ->    38 x  38 x 512  3.407 BFLOPs\n",
      "   93 conv    255  1 x 1 / 1    38 x  38 x 512   ->    38 x  38 x 255  0.377 BFLOPs\n",
      "   94 yolo\n",
      "   95 route  91\n",
      "   96 conv    128  1 x 1 / 1    38 x  38 x 256   ->    38 x  38 x 128  0.095 BFLOPs\n",
      "   97 upsample            2x    38 x  38 x 128   ->    76 x  76 x 128\n",
      "   98 route  97 36\n",
      "   99 conv    128  1 x 1 / 1    76 x  76 x 384   ->    76 x  76 x 128  0.568 BFLOPs\n",
      "  100 conv    256  3 x 3 / 1    76 x  76 x 128   ->    76 x  76 x 256  3.407 BFLOPs\n",
      "  101 conv    128  1 x 1 / 1    76 x  76 x 256   ->    76 x  76 x 128  0.379 BFLOPs\n",
      "  102 conv    256  3 x 3 / 1    76 x  76 x 128   ->    76 x  76 x 256  3.407 BFLOPs\n",
      "  103 conv    128  1 x 1 / 1    76 x  76 x 256   ->    76 x  76 x 128  0.379 BFLOPs\n",
      "  104 conv    256  3 x 3 / 1    76 x  76 x 128   ->    76 x  76 x 256  3.407 BFLOPs\n",
      "  105 conv    255  1 x 1 / 1    76 x  76 x 256   ->    76 x  76 x 255  0.754 BFLOPs\n",
      "  106 yolo\n",
      "Loading weights from yolov3.weights...Done!\n"
     ]
    }
   ],
   "source": [
    "%%bash\n",
    "cd ~/darknet\n",
    "./darknet detect cfg/yolov3.cfg yolov3.weights data/dog.jpg>result.txt"
   ]
  },
  {
   "cell_type": "code",
   "execution_count": 1,
   "metadata": {
    "scrolled": true
   },
   "outputs": [
    {
     "name": "stdout",
     "output_type": "stream",
     "text": [
      "data/dog.jpg: Predicted in 32.176195 seconds.\n",
      "dog: 100%\n",
      "Bounding Box:- Center_x = 0.291906, Center_y = 0.656986, Height = 0.569734, Width = 0.232555\n",
      "truck: 92%\n",
      "Bounding Box:- Center_x = 0.756160, Center_y = 0.217218, Height = 0.151043, Width = 0.271336\n",
      "bicycle: 99%\n",
      "Bounding Box:- Center_x = 0.448431, Center_y = 0.496672, Height = 0.562251, Width = 0.637248\n",
      "\n"
     ]
    }
   ],
   "source": [
    "import os\n",
    "os.chdir(\"/home/soham/darknet\")\n",
    "data = open('result.txt','r').read()\n",
    "print(data)"
   ]
  },
  {
   "cell_type": "code",
   "execution_count": 2,
   "metadata": {},
   "outputs": [],
   "source": [
    "def implist(data):\n",
    "    imp_list = []\n",
    "    first_split = data.split()\n",
    "    for ele in first_split:\n",
    "        if(ele[0].isdigit()==True):\n",
    "            if(ele[-1] == ','):\n",
    "                ele = ele.replace(\",\",\"\")\n",
    "            if(ele[-1] == '%'):\n",
    "                ele = ele.replace(\"%\",\"\")\n",
    "                ele = float(ele)\n",
    "                ele = ele/100\n",
    "            ele = float(ele)\n",
    "            imp_list.append(ele)\n",
    "        else:\n",
    "            if(ele[-1] == ':'):\n",
    "                ele = ele.replace(\":\",\"\")\n",
    "                imp_list.append(ele)\n",
    "    imp_list = imp_list[2:len(imp_list)]\n",
    "    return imp_list"
   ]
  },
  {
   "cell_type": "code",
   "execution_count": 3,
   "metadata": {},
   "outputs": [
    {
     "name": "stdout",
     "output_type": "stream",
     "text": [
      "['dog', 1.0, 0.291906, 0.656986, 0.569734, 0.232555, 'truck', 0.92, 0.75616, 0.217218, 0.151043, 0.271336, 'bicycle', 0.99, 0.448431, 0.496672, 0.562251, 0.637248]\n"
     ]
    }
   ],
   "source": [
    "imp_list = implist(data)\n",
    "print(imp_list)"
   ]
  },
  {
   "cell_type": "code",
   "execution_count": 4,
   "metadata": {},
   "outputs": [],
   "source": [
    "def breaking_into_components(imp_list):\n",
    "    new_implist = []\n",
    "    i = 0\n",
    "    while(i<len(imp_list)):\n",
    "        temp = imp_list[i:i+6]\n",
    "        i = i+6\n",
    "        new_implist.append(temp)\n",
    "    return new_implist"
   ]
  },
  {
   "cell_type": "code",
   "execution_count": 5,
   "metadata": {},
   "outputs": [
    {
     "name": "stdout",
     "output_type": "stream",
     "text": [
      "[['dog', 1.0, 0.291906, 0.656986, 0.569734, 0.232555], ['truck', 0.92, 0.75616, 0.217218, 0.151043, 0.271336], ['bicycle', 0.99, 0.448431, 0.496672, 0.562251, 0.637248]]\n"
     ]
    }
   ],
   "source": [
    "imp_list = breaking_into_components(imp_list)\n",
    "print(imp_list)"
   ]
  },
  {
   "cell_type": "code",
   "execution_count": 44,
   "metadata": {},
   "outputs": [],
   "source": [
    "from __future__ import print_function\n",
    "import numpy as np\n",
    "import pandas as pd\n",
    "import tensorflow as tf\n",
    "import IPython\n",
    "import sys\n",
    "import numpy as np\n",
    "from keras.models import load_model, Model\n",
    "from keras.layers import Dense, Activation, Dropout, Input, LSTM, Reshape, Lambda, RepeatVector, Flatten\n",
    "from keras.initializers import glorot_uniform\n",
    "from keras.utils import to_categorical\n",
    "from keras.optimizers import Adam\n",
    "from keras import backend as K"
   ]
  },
  {
   "cell_type": "code",
   "execution_count": 41,
   "metadata": {},
   "outputs": [],
   "source": [
    "#This function uses loops, try something better if possible\n",
    "#Each grid is in the format [confidence,xpos,ypos,height,width,person, bicycle, car, motorcycle, airplane, bus, train, truck, boat, traffic light, fire hydrant, street sign, stop sign, parking meter, bench, bird, cat, dog, horse, sheep, cow, elephant, bear, zebra, giraffe, hat, backpack, umbrella, shoe, eye, glasses, handbag, tie, suitcase, frisbee, skis, snowboard, sports ball, kite, baseball bat, baseball glove, skateboard, surfboard, tennis racket, bottle, plate, wine glass, cup, fork, knife, spoon, bowl, banana, apple, sandwich, orange, broccoli, carrot, hot dog, pizza, donut, cake, chair, couch, potted plant, bed, mirror, dining table, window, desk, toilet, door, tv, laptop, mouse, remote, keyboard, cell phone, microwave, oven, toaster, sink, refrigerator, blender, book, clock, vase, scissors, teddy bear, hair drier, toothbrush, hair brush] \n",
    "def make_final3d(random_3d,imp_list):\n",
    "    labels = [\"person\", \"bicycle\", \"car\", \"motorcycle\", \"airplane\", \"bus\", \"train\", \"truck\", \"boat\", \"traffic light\", \"fire hydrant\", \"street sign\", \"stop sign\", \"parking meter\", \"bench\", \"bird\", \"cat\", \"dog\", \"horse\", \"sheep\", \"cow\", \"elephant\", \"bear\", \"zebra\", \"giraffe\", \"hat\", \"backpack\", \"umbrella\", \"shoe\", \"eye\", \"glasses\", \"handbag\", \"tie\", \"suitcase\", \"frisbee\", \"skis\", \"snowboard\", \"sports ball\", \"kite\", \"baseball bat\", \"baseball glove\", \"skateboard\", \"surfboard\", \"tennis racket\", \"bottle\", \"plate\", \"wine glass\", \"cup\", \"fork\", \"knife\", \"spoon\", \"bowl\", \"banana\", \"apple\", \"sandwich\", \"orange\", \"broccoli\", \"carrot\", \"hot dog\", \"pizza\", \"donut\", \"cake\", \"chair\", \"couch\", \"potted plant\", \"bed\", \"mirror\", \"dining table\", \"window\", \"desk\", \"toilet\", \"door\", \"tv\", \"laptop\", \"mouse\", \"remote\", \"keyboard\", \"cell phone\", \"microwave\", \"oven\", \"toaster\", \"sink\", \"refrigerator\", \"blender\", \"book\", \"clock\", \"vase\", \"scissors\", \"teddy bear\", \"hair drier\", \"toothbrush\", \"hair brush\"] \n",
    "    random_3d[:,:,0] = 0\n",
    "    for obj in imp_list:\n",
    "        xcenter = obj[2]\n",
    "        ycenter = obj[3]\n",
    "        xgrid_num = int(xcenter/(1/19)) + 1\n",
    "        xcenter_wrt_grid = xcenter/(1/19) - int(xcenter/(1/19))\n",
    "        ygrid_num = int(ycenter/(1/19)) + 1\n",
    "        ycenter_wrt_grid = ycenter/(1/19) - int(ycenter/(1/19))\n",
    "        random_3d[xgrid_num,ygrid_num,0] = obj[1]\n",
    "        random_3d[xgrid_num,ygrid_num,1] = xcenter_wrt_grid\n",
    "        random_3d[xgrid_num,ygrid_num,2] = xcenter_wrt_grid\n",
    "        random_3d[xgrid_num,ygrid_num,3] = obj[4]\n",
    "        random_3d[xgrid_num,ygrid_num,4] = obj[5]\n",
    "        random_3d[xgrid_num,ygrid_num,5:96] = 0\n",
    "        thing_num = 0\n",
    "        for thing in labels:\n",
    "            if obj[0] == thing:\n",
    "                random_3d[xgrid_num][ygrid_num][thing_num+5] = 1\n",
    "                break\n",
    "            thing_num = thing_num+1\n",
    "    return random_3d"
   ]
  },
  {
   "cell_type": "code",
   "execution_count": 55,
   "metadata": {},
   "outputs": [
    {
     "name": "stdout",
     "output_type": "stream",
     "text": [
      "(19, 19, 96)\n"
     ]
    }
   ],
   "source": [
    "random_3d = np.random.randn(19,19,96)\n",
    "random_3d = random_3d - random_3d.astype(int)\n",
    "final_3d = make_final3d(random_3d,imp_list)\n",
    "print(final_3d.shape)"
   ]
  },
  {
   "cell_type": "code",
   "execution_count": 48,
   "metadata": {},
   "outputs": [
    {
     "name": "stdout",
     "output_type": "stream",
     "text": [
      "[ 0.          0.37714595  0.656395   ...  0.41900016  0.04171136\n",
      " -0.084869  ]\n"
     ]
    }
   ],
   "source": [
    "final_flat = final_3d.flatten()\n",
    "print(final_flat)"
   ]
  },
  {
   "cell_type": "code",
   "execution_count": 56,
   "metadata": {},
   "outputs": [
    {
     "name": "stdout",
     "output_type": "stream",
     "text": [
      "(34656,)\n"
     ]
    }
   ],
   "source": [
    "print(final_flat.shape)"
   ]
  },
  {
   "cell_type": "code",
   "execution_count": null,
   "metadata": {},
   "outputs": [],
   "source": []
  }
 ],
 "metadata": {
  "kernelspec": {
   "display_name": "Python 3",
   "language": "python",
   "name": "python3"
  },
  "language_info": {
   "codemirror_mode": {
    "name": "ipython",
    "version": 3
   },
   "file_extension": ".py",
   "mimetype": "text/x-python",
   "name": "python",
   "nbconvert_exporter": "python",
   "pygments_lexer": "ipython3",
   "version": "3.6.8"
  }
 },
 "nbformat": 4,
 "nbformat_minor": 2
}
